{
 "cells": [
  {
   "cell_type": "code",
   "execution_count": 20,
   "id": "01a6887d",
   "metadata": {},
   "outputs": [
    {
     "name": "stdout",
     "output_type": "stream",
     "text": [
      "Number of 1000 notes are 5\n",
      "Number of 500 notes are 1\n",
      "20\n",
      "Number of 20 notes are 1\n"
     ]
    }
   ],
   "source": [
    "amt=5520\n",
    "n_1000=n_500=n_100=n_20=0\n",
    "if amt>=1000:\n",
    "    n_1000=amt//1000\n",
    "    amt=amt%1000\n",
    "    print(\"Number of 1000 notes are\",n_1000)\n",
    "if amt>=500:\n",
    "    n_500=amt//500\n",
    "    amt=amt%500\n",
    "    print(\"Number of 500 notes are\",n_500)\n",
    "    print(amt)\n",
    "if amt>=100:\n",
    "    n_100=amt//100\n",
    "    amt=amt%100\n",
    "    print(\"Number of 100 notes are\",n_100)\n",
    "if amt>=20:\n",
    "    n_20=amt//20\n",
    "    amt=amt%20\n",
    "    print(\"Number of 20 notes are\",n_20)"
   ]
  },
  {
   "cell_type": "code",
   "execution_count": 2,
   "id": "edbb00dc",
   "metadata": {},
   "outputs": [
    {
     "name": "stdout",
     "output_type": "stream",
     "text": [
      "Enter your unit67\n",
      "your bill is 37.75\n"
     ]
    }
   ],
   "source": [
    "unit=int(input(\"Enter your unit\"))\n",
    "rs=0\n",
    "if  unit<=50:\n",
    "    rs=unit*0.50\n",
    "    print(\"your bill is\",rs)\n",
    "elif  unit<=100:\n",
    "    rs=25+(unit-50)*0.75\n",
    "    print(\"your bill is\",rs)\n",
    "elif unit<=250:\n",
    "    rs=75+(unit-100)*1.20\n",
    "    print(\"your bill is\",rs)\n",
    "elif unit>250:\n",
    "    rs=300+(unit-250)*1.50\n",
    "    print(\"your bill is\",rs)\n",
    "        \n",
    "    "
   ]
  },
  {
   "cell_type": "code",
   "execution_count": 3,
   "id": "274fe4e7",
   "metadata": {},
   "outputs": [
    {
     "name": "stdout",
     "output_type": "stream",
     "text": [
      "Enter your age65\n",
      "You are too old to work please collect the pension \n"
     ]
    }
   ],
   "source": [
    "Age=int(input(\"Enter your age\"))\n",
    "if Age<18:\n",
    "    Print(\"Your Minor so not eligible to work\")\n",
    "elif Age>18 and Age<60:\n",
    "    name=input(\"Enter your name\")\n",
    "    phoneno=int(input(\"Enter your mobile number\"))\n",
    "    email=input(\"Enter your email id\")\n",
    "elif Age>60:\n",
    "    print(\"You are too old to work please collect the pension \")"
   ]
  },
  {
   "cell_type": "code",
   "execution_count": 6,
   "id": "90df8a18",
   "metadata": {},
   "outputs": [
    {
     "name": "stdout",
     "output_type": "stream",
     "text": [
      "Enter a number that divisible ny 3 or 712\n",
      "You entered correct Number 👍Good\n"
     ]
    }
   ],
   "source": [
    "number=int(input(\"Enter a number that divisible ny 3 or 7\"))\n",
    "if number%3==0 or number%7==0:\n",
    "    print(\"You entered correct Number 👍Good\")\n",
    "else:\n",
    "    print(\"Don't worry think and try again 🤙Good try\")"
   ]
  },
  {
   "cell_type": "code",
   "execution_count": 2,
   "id": "07806e2f",
   "metadata": {},
   "outputs": [
    {
     "name": "stdout",
     "output_type": "stream",
     "text": [
      "Enter a number5\n",
      "Enter a number6\n",
      "Enter a number7\n",
      "Larger number is 7\n"
     ]
    }
   ],
   "source": [
    "a=int(input(\"Enter a number\"))\n",
    "b=int(input(\"Enter a number\"))\n",
    "c=int(input(\"Enter a number\"))\n",
    "if a>b and a>c:\n",
    "    print(\"Larger number is\",a)\n",
    "elif b>a and b>c:\n",
    "    print(\"Larger number is\",b)\n",
    "else:\n",
    "    print(\"Larger number is\",c)"
   ]
  },
  {
   "cell_type": "code",
   "execution_count": 1,
   "id": "35d21b79",
   "metadata": {},
   "outputs": [
    {
     "name": "stdout",
     "output_type": "stream",
     "text": [
      "Enter upper limit: 20\n",
      "2\n",
      "3\n",
      "5\n",
      "7\n",
      "11\n",
      "13\n",
      "17\n",
      "19\n"
     ]
    }
   ],
   "source": [
    "r=int(input(\"Enter upper limit: \"))\n",
    "for a in range(2,r+1):\n",
    "    k=0\n",
    "    for i in range(2,a//2+1):\n",
    "        if(a%i==0):\n",
    "            k=k+1\n",
    "    if(k<=0):\n",
    "        print(a)"
   ]
  },
  {
   "cell_type": "code",
   "execution_count": 2,
   "id": "2466b86c",
   "metadata": {},
   "outputs": [
    {
     "name": "stdout",
     "output_type": "stream",
     "text": [
      "llo\n"
     ]
    }
   ],
   "source": [
    "b =\"Hello, World!\"\n",
    "print(b[2:5])\n"
   ]
  },
  {
   "cell_type": "code",
   "execution_count": 3,
   "id": "772cf631",
   "metadata": {},
   "outputs": [
    {
     "name": "stdout",
     "output_type": "stream",
     "text": [
      "orl\n"
     ]
    }
   ],
   "source": [
    "b =\"Hello, World!\"\n",
    "print(b[-5:-2])\n"
   ]
  },
  {
   "cell_type": "code",
   "execution_count": 5,
   "id": "d1bd81f0",
   "metadata": {},
   "outputs": [
    {
     "name": "stdout",
     "output_type": "stream",
     "text": [
      "d\n"
     ]
    }
   ],
   "source": [
    "q=\"jhfbkudjh\"\n",
    "print(q[-3])"
   ]
  },
  {
   "cell_type": "code",
   "execution_count": null,
   "id": "f7c2cf08",
   "metadata": {},
   "outputs": [],
   "source": [
    "letters=[['h','e','o','u','t','a'],['b','a','d','u','t','m'],['s','a','r','c','t','n']]\n",
    "words=[['hut','out','hat','eat','heat'],['bat','bad','mad','mat','mud'],['sun','arc','cat','sat','rat']]\n",
    "a=0\n",
    "point=0\n",
    "while(a<len(letters)):\n",
    "    print(letters[a])\n",
    "    user=input(\"Create three character word using above list:\")\n",
    "    for i in words:\n",
    "        for j in i:\n",
    "            if user==j:\n",
    "                print(\"correct\")\n",
    "                point=point+1\n",
    "                print(point)\n",
    "                user=input(\"Create three character word using above list:\")\n",
    "    else:\n",
    "        print(\"incorrect\")\n",
    "    a=a+1"
   ]
  },
  {
   "cell_type": "code",
   "execution_count": null,
   "id": "f19a2145",
   "metadata": {},
   "outputs": [],
   "source": []
  }
 ],
 "metadata": {
  "kernelspec": {
   "display_name": "Python 3 (ipykernel)",
   "language": "python",
   "name": "python3"
  },
  "language_info": {
   "codemirror_mode": {
    "name": "ipython",
    "version": 3
   },
   "file_extension": ".py",
   "mimetype": "text/x-python",
   "name": "python",
   "nbconvert_exporter": "python",
   "pygments_lexer": "ipython3",
   "version": "3.11.5"
  }
 },
 "nbformat": 4,
 "nbformat_minor": 5
}
